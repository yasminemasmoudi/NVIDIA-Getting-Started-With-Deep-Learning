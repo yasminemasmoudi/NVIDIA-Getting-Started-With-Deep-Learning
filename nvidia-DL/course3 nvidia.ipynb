{
 "cells": [
  {
   "cell_type": "markdown",
   "id": "ade78527",
   "metadata": {},
   "source": [
    "Convolutional Neural Networks\n",
    "\n",
    "In the previous section, we built and trained a simple model to classify ASL images. The model was able to learn how to correctly classify the training dataset with very high accuracy, but, it did not perform nearly as well on validation dataset. This behavior of not generalizing well to non-training data is called overfitting, and in this section, we will introduce a popular kind of model called a convolutional neural network that is especially good for reading images and classifying them."
   ]
  },
  {
   "cell_type": "code",
   "execution_count": null,
   "id": "bae18fc0",
   "metadata": {},
   "outputs": [],
   "source": [
    "#Loading and Preparing the Data\n",
    "import tensorflow.keras as keras\n",
    "import pandas as pd\n",
    "\n",
    "# Load in our data from CSV files\n",
    "train_df = pd.read_csv(\"data/asl_data/sign_mnist_train.csv\")\n",
    "valid_df = pd.read_csv(\"data/asl_data/sign_mnist_valid.csv\")\n",
    "\n",
    "# Separate out our target values\n",
    "y_train = train_df['label']\n",
    "y_valid = valid_df['label']\n",
    "del train_df['label']\n",
    "del valid_df['label']\n",
    "\n",
    "# Separate out our image vectors\n",
    "x_train = train_df.values\n",
    "x_valid = valid_df.values\n",
    "\n",
    "# Turn our scalar targets into binary categories\n",
    "num_classes = 24\n",
    "y_train = keras.utils.to_categorical(y_train, num_classes)\n",
    "y_valid = keras.utils.to_categorical(y_valid, num_classes)\n",
    "\n",
    "# Normalize our image data\n",
    "x_train = x_train / 255\n",
    "x_valid = x_valid / 255"
   ]
  },
  {
   "cell_type": "code",
   "execution_count": null,
   "id": "1827b783",
   "metadata": {},
   "outputs": [],
   "source": [
    "#Reshaping Images for a CNN\n",
    "x_train.shape, x_valid.shape\n",
    "#Let's reshape our dataset so that they are in a 28x28 pixel format\n",
    "#This will allow our convolutions to associate groups of pixels and detect important features\n",
    "#Note that for the first convolutional layer of our model, we need to have not only the height and width of the image,\n",
    "#but also the number of color channels.\n",
    "#Our images are grayscale, so we'll just have 1 channel\n",
    "#That means that we need to convert the current shape (27455, 784) to (27455, 28, 28, 1)\n",
    "#As a convenience, we can pass the reshape method a -1 for any dimension we wish to remain the same\n",
    "x_train = x_train.reshape(-1,28,28,1)\n",
    "x_valid = x_valid.reshape(-1,28,28,1)\n",
    "x_train.shape\n",
    "x_valid.shape"
   ]
  },
  {
   "cell_type": "code",
   "execution_count": null,
   "id": "d5209880",
   "metadata": {},
   "outputs": [],
   "source": [
    "#Creating a Convolutional Model\n",
    "from tensorflow.keras.models import Sequential\n",
    "from tensorflow.keras.layers import (\n",
    "    Dense,\n",
    "    Conv2D,\n",
    "    MaxPool2D,\n",
    "    Flatten,\n",
    "    Dropout,\n",
    "    BatchNormalization,\n",
    ")\n",
    "\n",
    "model = Sequential()\n",
    "model.add(Conv2D(75, (3, 3), strides=1, padding=\"same\", activation=\"relu\", \n",
    "                 input_shape=(28, 28, 1)))\n",
    "model.add(BatchNormalization())\n",
    "model.add(MaxPool2D((2, 2), strides=2, padding=\"same\"))\n",
    "model.add(Conv2D(50, (3, 3), strides=1, padding=\"same\", activation=\"relu\"))\n",
    "model.add(Dropout(0.2))\n",
    "model.add(BatchNormalization())\n",
    "model.add(MaxPool2D((2, 2), strides=2, padding=\"same\"))\n",
    "model.add(Conv2D(25, (3, 3), strides=1, padding=\"same\", activation=\"relu\"))\n",
    "model.add(BatchNormalization())\n",
    "model.add(MaxPool2D((2, 2), strides=2, padding=\"same\"))\n",
    "model.add(Flatten())\n",
    "model.add(Dense(units=512, activation=\"relu\"))\n",
    "model.add(Dropout(0.3))\n",
    "model.add(Dense(units=num_classes, activation=\"softmax\"))"
   ]
  },
  {
   "cell_type": "markdown",
   "id": "c861ee77",
   "metadata": {},
   "source": [
    "Conv2D (https://www.tensorflow.org/api_docs/python/tf/keras/layers/Conv2D)\n",
    "\n",
    "These are our 2D convolutional layers. Small kernels will go over the input image and detect features that are important for classification. Earlier convolutions in the model will detect simple features such as lines. Later convolutions will detect more complex features. Let's look at our first Conv2D layer:\n",
    "\n",
    "model.add(Conv2D(75 , (3,3) , strides = 1 , padding = 'same'...)\n",
    "75 refers to the number of filters that will be learned.\n",
    "(3,3) refers to the size of those filters.\n",
    "Strides refer to the step size that the filter will take as it passes over the image.\n",
    "Padding refers to whether the output image that's created from the filter will match the size of the input image."
   ]
  },
  {
   "cell_type": "markdown",
   "id": "135c21f9",
   "metadata": {},
   "source": [
    "BatchNormalization (https://www.tensorflow.org/api_docs/python/tf/keras/layers/BatchNormalization)\n",
    "Like normalizing our inputs, batch normalization scales the values in the hidden layers to improve training"
   ]
  },
  {
   "cell_type": "markdown",
   "id": "70884946",
   "metadata": {},
   "source": [
    "MaxPool2D (https://www.tensorflow.org/api_docs/python/tf/keras/layers/MaxPool2D)\n",
    "Max pooling takes an image and essentially shrinks it to a lower resolution. It does this to help the model be robust to translation (objects moving side to side), and also makes our model faster."
   ]
  },
  {
   "cell_type": "markdown",
   "id": "d58a5c11",
   "metadata": {},
   "source": [
    "Dropout(https://www.tensorflow.org/api_docs/python/tf/keras/layers/Dropout)\n",
    "Dropout is a technique for preventing overfitting.\n",
    "Dropout randomly selects a subset of neurons and turns them off, so that they do not participate in forward or backward propagation in that particular pass.\n",
    "This helps to make sure that the network is robust and redundant, and does not rely on any one area to come up with answers."
   ]
  },
  {
   "cell_type": "markdown",
   "id": "342e4189",
   "metadata": {},
   "source": [
    "Flatten(https://www.tensorflow.org/api_docs/python/tf/keras/layers/Flatten)\n",
    "Flatten takes the output of one layer which is multidimensional, and flattens it into a one-dimensional array. \n",
    "The output is called a feature vector and will be connected to the final classification layer."
   ]
  },
  {
   "cell_type": "markdown",
   "id": "9190e39e",
   "metadata": {},
   "source": [
    "Dense(https://www.tensorflow.org/api_docs/python/tf/keras/layers/Dense)\n",
    "We have seen dense layers before in our earlier models.\n",
    "Our first dense layer (512 units) takes the feature vector as input and learns which features will contribute to a particular classification.\n",
    "The second dense layer (24 units) is the final classification layer that outputs our prediction."
   ]
  },
  {
   "cell_type": "code",
   "execution_count": null,
   "id": "c94bce77",
   "metadata": {},
   "outputs": [],
   "source": [
    "model.summary()\n",
    "model.compile(loss=\"categorical_crossentropy\", metrics=[\"accuracy\"])\n",
    "model.fit(x_train, y_train, epochs=20, verbose=1, validation_data=(x_valid, y_valid))"
   ]
  },
  {
   "cell_type": "markdown",
   "id": "7f8fbe58",
   "metadata": {},
   "source": [
    "Discussion of Results:\n",
    "\n",
    "It looks like this model is significantly improved! The training accuracy is very high, and the validation accuracy has improved as well. This is a great result, as all we had to do was swap in a new model.\n",
    "\n",
    "You may have noticed the validation accuracy jumping around. This is an indication that our model is still not generalizing perfectly.\n",
    "\n",
    "Summary:\n",
    "\n",
    "In this section, we utilized several new kinds of layers to implement a CNN, which performed better than the more simple model used in the last section. Hopefully the overall process of creating and training a model with prepared data is starting to become even more familiar."
   ]
  }
 ],
 "metadata": {
  "kernelspec": {
   "display_name": "Python 3 (ipykernel)",
   "language": "python",
   "name": "python3"
  },
  "language_info": {
   "codemirror_mode": {
    "name": "ipython",
    "version": 3
   },
   "file_extension": ".py",
   "mimetype": "text/x-python",
   "name": "python",
   "nbconvert_exporter": "python",
   "pygments_lexer": "ipython3",
   "version": "3.9.7"
  }
 },
 "nbformat": 4,
 "nbformat_minor": 5
}

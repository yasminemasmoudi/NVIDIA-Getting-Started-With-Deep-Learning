{
 "cells": [
  {
   "attachments": {},
   "cell_type": "markdown",
   "id": "b565bb36",
   "metadata": {},
   "source": [
    "1) Pre-Trained Models\n",
    "A great place to explore available models is NGC. There are also many models hosted on GitHub that you can find through searching on Google."
   ]
  },
  {
   "cell_type": "markdown",
   "id": "6a427e5b",
   "metadata": {},
   "source": [
    "-Use Keras to load a very well-trained pretrained model\n",
    "-Preprocess your own images to work with the pretrained model\n",
    "-Use the pretrained model to perform accurate inference on your own images"
   ]
  },
  {
   "cell_type": "markdown",
   "id": "75a96e23",
   "metadata": {},
   "source": [
    "An Automated Doggy Door:\n",
    "The ImageNet challenge has produced many state-of-the-art models that can be used for image classification. They are trained on millions of images, and can accurately classify images into 1000 different categories. Many of those categories are animals, including breeds of dogs and cats. This is a perfect model for our doggy door."
   ]
  },
  {
   "cell_type": "markdown",
   "id": "5cf35bfb",
   "metadata": {},
   "source": [
    "Loading the Model:\n",
    "\n",
    "We will start by downloading the model. Trained ImageNet models are available to download directly within the Keras library. You can see the available models and their details here(https://keras.io/api/applications/#available-models). Any of these models would work for our exercise. We will pick a commonly used one called VGG16"
   ]
  },
  {
   "cell_type": "code",
   "execution_count": null,
   "id": "6dd885b6",
   "metadata": {},
   "outputs": [],
   "source": [
    "from tensorflow.keras.applications import VGG16\n",
    "  \n",
    "# load the VGG16 network *pre-trained* on the ImageNet dataset\n",
    "model = VGG16(weights=\"imagenet\")"
   ]
  },
  {
   "cell_type": "code",
   "execution_count": null,
   "id": "e98102e7",
   "metadata": {},
   "outputs": [],
   "source": [
    "model.summary()\n"
   ]
  },
  {
   "cell_type": "markdown",
   "id": "85aa87b1",
   "metadata": {},
   "source": [
    "we need to make sure our images match the input dimensions that the model expects. \n",
    "\n",
    "It is also valuable to understand what the model will return from the final output layer.\n",
    "We can see that the model is expecting images in the shape of (224, 224, 3) corresponding to 224 pixels high, 224 pixels wide, and 3 color channels\n",
    "\n",
    "As we learned in our last exercise, Keras models can accept more than one image at a time for prediction. If we pass in just one image, the shape will be (1, 224, 224, 3). We will need to make sure that when passing images into our model for prediction, they match these dimensions.\n",
    "\n",
    "We can also see that the model will return a prediction of shape 1000. Remember that in our first exercise the output shape of our model was 10, corresponding to the 10 different digits. In our second exercise we had a shape of 24, corresponding to the 24 letters of the sign language alphabet that could be captured in a still image. Here, we have 1000 possible categories that the image will be placed in. Though the full ImageNet dataset has over 20,000 categories, the competition and resulting pre-trained models just use a subset of 1000 of these categories. We can take a look at all of these possible categories here(https://gist.github.com/yrevar/942d3a0ac09ec9e5eb3a)\n",
    "\n",
    "Many of the categories are animals, including many types of dogs and cats. The dogs are categories 151 through 268. The cats are categories 281 through 285. We will be able to use these categories to tell our doggy door what type of animal is at our door, and whether we should let them in or not."
   ]
  },
  {
   "cell_type": "code",
   "execution_count": null,
   "id": "a7508322",
   "metadata": {},
   "outputs": [],
   "source": [
    "#Loading an Image\n",
    "import matplotlib.pyplot as plt\n",
    "import matplotlib.image as mpimg\n",
    "\n",
    "def show_image(image_path):\n",
    "    image = mpimg.imread(image_path)\n",
    "    print(image.shape)\n",
    "    plt.imshow(image)\n",
    "    \n",
    "show_image(\"data/doggy_door_images/happy_dog.jpg\")"
   ]
  },
  {
   "cell_type": "markdown",
   "id": "1d936510",
   "metadata": {},
   "source": [
    "Preprocessing the Image:\n",
    "\n",
    "Next, we need to preprocess the image so that it is ready to be sent into the model. This is just like what we did in our last exercise when we predicted on the sign language images. Remember that in this case, the final shape of the image needs to be (1, 224, 224, 3).\n",
    "\n",
    "When loading models directly with Keras, we can also take advantage of preprocess_input methods. These methods, associated with a specific model, allow users to preprocess their own images to match the qualities of the images that the model was originally trained on. We had to do this manually yourself when performing inference with new ASL images"
   ]
  },
  {
   "cell_type": "code",
   "execution_count": null,
   "id": "b34391e1",
   "metadata": {},
   "outputs": [],
   "source": [
    "from tensorflow.keras.preprocessing import image as image_utils\n",
    "from tensorflow.keras.applications.vgg16 import preprocess_input\n",
    "\n",
    "def load_and_process_image(image_path):\n",
    "    # Print image's original shape, for reference\n",
    "    print('Original image shape: ', mpimg.imread(image_path).shape)\n",
    "    \n",
    "    # Load in the image with a target size of 224, 224\n",
    "    image = image_utils.load_img(image_path, target_size=(224, 224))\n",
    "    # Convert the image from a PIL format to a numpy array\n",
    "    image = image_utils.img_to_array(image)\n",
    "    # Add a dimension for number of images, in our case 1\n",
    "    image = image.reshape(1,224,224,3)\n",
    "    # Preprocess image to align with original ImageNet dataset\n",
    "    image = preprocess_input(image)\n",
    "    # Print image's shape after processing\n",
    "    print('Processed image shape: ', image.shape)\n",
    "    return image"
   ]
  },
  {
   "cell_type": "code",
   "execution_count": null,
   "id": "f5a9e6dc",
   "metadata": {},
   "outputs": [],
   "source": [
    "processed_image = load_and_process_image(\"data/doggy_door_images/brown_bear.jpg\")"
   ]
  },
  {
   "cell_type": "markdown",
   "id": "c74b2ed2",
   "metadata": {},
   "source": [
    "output:\n",
    "Original image shape:  (2592, 3456, 3)\n",
    "Processed image shape:  (1, 224, 224, 3)"
   ]
  },
  {
   "cell_type": "markdown",
   "id": "53a478cb",
   "metadata": {},
   "source": [
    "Make a Prediction:\n",
    "Now that we have our image in the right format, we can pass it into our model and get a prediction. We are expecting an output of an array of 1000 elements, which is going to be difficult to read. Fortunately, models loaded directly with Keras have yet another helpful method that will translate that prediction array into a more readable form."
   ]
  },
  {
   "cell_type": "code",
   "execution_count": null,
   "id": "1063a2bf",
   "metadata": {},
   "outputs": [],
   "source": [
    "from tensorflow.keras.applications.vgg16 import decode_predictions\n",
    "\n",
    "def readable_prediction(image_path):\n",
    "    # Show image\n",
    "    show_image(image_path)\n",
    "    # Load and pre-process image\n",
    "    image = load_and_process_image(image_path)\n",
    "    # Make predictions\n",
    "    predictions = model.predict(image)\n",
    "    # Print predictions in readable form\n",
    "    print('Predicted:', decode_predictions(predictions, top=3))"
   ]
  },
  {
   "cell_type": "code",
   "execution_count": null,
   "id": "beec4ddf",
   "metadata": {},
   "outputs": [],
   "source": [
    "readable_prediction(\"data/doggy_door_images/happy_dog.jpg\")"
   ]
  },
  {
   "cell_type": "code",
   "execution_count": null,
   "id": "08135580",
   "metadata": {},
   "outputs": [],
   "source": [
    "readable_prediction(\"data/doggy_door_images/brown_bear.jpg\")"
   ]
  },
  {
   "cell_type": "code",
   "execution_count": null,
   "id": "06f42f23",
   "metadata": {},
   "outputs": [],
   "source": [
    "readable_prediction(\"data/doggy_door_images/sleepy_cat.jpg\")"
   ]
  },
  {
   "cell_type": "markdown",
   "id": "77631716",
   "metadata": {},
   "source": [
    "Only Dogs\n",
    "Now that we are making predictions with our model, we can use our categories to only let dogs in and out and keep cats inside. Remember that dogs are categories 151 through 268 and cats are categories 281 through 285. The np.argmax function can find which element of the prediction array is the top category."
   ]
  },
  {
   "cell_type": "code",
   "execution_count": null,
   "id": "de91ff73",
   "metadata": {},
   "outputs": [],
   "source": [
    "import numpy as np\n",
    "\n",
    "def doggy_door(image_path):\n",
    "    show_image(image_path)\n",
    "    image = load_and_process_image(image_path)\n",
    "    preds = model.predict(image)\n",
    "    if 151 <= np.argmax(preds) <= 268:\n",
    "        print(\"Doggy come on in!\")\n",
    "    elif 281 <= np.argmax(preds) <= 285:\n",
    "        print(\"Kitty stay inside!\")\n",
    "    else:\n",
    "        print(\"You're not a dog! Stay outside!\")"
   ]
  },
  {
   "cell_type": "code",
   "execution_count": null,
   "id": "0d348c72",
   "metadata": {},
   "outputs": [],
   "source": [
    "doggy_door(\"data/doggy_door_images/brown_bear.jpg\")"
   ]
  },
  {
   "cell_type": "code",
   "execution_count": null,
   "id": "407e982d",
   "metadata": {},
   "outputs": [],
   "source": [
    "doggy_door(\"data/doggy_door_images/happy_dog.jpg\")"
   ]
  },
  {
   "cell_type": "code",
   "execution_count": null,
   "id": "34d0068f",
   "metadata": {},
   "outputs": [],
   "source": [
    "doggy_door(\"data/doggy_door_images/sleepy_cat.jpg\")"
   ]
  },
  {
   "cell_type": "code",
   "execution_count": null,
   "id": "7a671168",
   "metadata": {},
   "outputs": [],
   "source": []
  },
  {
   "cell_type": "markdown",
   "id": "54da720c",
   "metadata": {},
   "source": [
    "2) Transfer Learning:\n",
    "So far, we have trained accurate models on large datasets, and also downloaded a pre-trained model that we used with no training necessary. But what if we cannot find a pre-trained model that does exactly what you need, and what if we do not have a sufficiently large dataset to train a model from scratch? In this case, there is a very helpful technique we can use called transfer learning.\n",
    "\n",
    "With transfer learning, we take a pre-trained model and retrain it on a task that has some overlap with the original training task.\n",
    "As an example in deep learning, say we have a pre-trained model that is very good at recognizing different types of cars, and we want to train a model to recognize types of motorcycles. A lot of the learnings of the car model would likely be very useful, for instance the ability to recognize headlights and wheels.\n",
    "\n",
    "Transfer learning is especially powerful when we do not have a large and varied dataset. In this case, a model trained from scratch would likely memorize the training data quickly, but not be able to generalize well to new data. With transfer learning, you can increase your chances of training an accurate and robust model on a small dataset."
   ]
  },
  {
   "cell_type": "markdown",
   "id": "ee7fc61f",
   "metadata": {},
   "source": [
    "A Personalized Doggy Door:\n",
    "In our last exercise, we used a pre-trained ImageNet model to let in all dogs, but keep out other animals. In this exercise, we would like to create a doggy door that only lets in a particular dog. In this case, we will make an automatic doggy door for a dog named Bo, the United States First Dog between 2009 and 2017. There are more pictures of Bo in the \"data/presidential_doggy_door\" folder\n",
    "\n",
    "The challenge is that the pre-trained model was not trained to recognize this specific dog, and, we only have 30 pictures of Bo. If we tried to train a model from scratch using those 30 pictures we would experience overfitting and poor generalization. However, if we start with a pre-trained model that is adept at detecting dogs, we can leverage that learning to gain a generalized understanding of Bo using our smaller dataset. We can use transfer learning to solve this challenge.\n",
    "\n",
    "Let us start by downloading the pre-trained model. Again, this is available directly from the Keras library. As we are downloading, there is going to be an important difference. The last layer of an ImageNet model is a dense layer of 1000 units, representing the 1000 possible classes in the dataset. In our case, we want it to make a different classification: is this Bo or not? Because we want the classification to be different, we are going to remove the last layer of the model. We can do this by setting the flag \"include_top=False\" when downloading the model. After removing this top layer, we can add new layers that will yield the type of classification that we want"
   ]
  },
  {
   "cell_type": "code",
   "execution_count": null,
   "id": "d7e08ec5",
   "metadata": {},
   "outputs": [],
   "source": [
    "from tensorflow import keras\n",
    "\n",
    "base_model = keras.applications.VGG16(\n",
    "    weights='imagenet',  # Load weights pre-trained on ImageNet.\n",
    "    input_shape=(224, 224, 3),\n",
    "    include_top=False)"
   ]
  },
  {
   "cell_type": "code",
   "execution_count": null,
   "id": "6f8a742a",
   "metadata": {},
   "outputs": [],
   "source": [
    "base_model.summary()"
   ]
  },
  {
   "cell_type": "markdown",
   "id": "04686d48",
   "metadata": {},
   "source": [
    "Freezing the Base Model:\n",
    "Before we add our new layers onto the pre-trained model, we should take an important step: freezing the model's pre-trained layers. This means that when we train, we will not update the base layers from the pre-trained model. Instead we will only update the new layers that we add on the end for our new classification. We freeze the initial layers because we want to retain the learning achieved from training on the ImageNet dataset. If they were unfrozen at this stage, we would likely destroy this valuable information. There will be an option to unfreeze and train these layers later, in a process called fine-tuning.\n",
    "\n",
    "Freezing the base layers is as simple as setting \"trainable\" on the model to False"
   ]
  },
  {
   "cell_type": "code",
   "execution_count": null,
   "id": "8986a60c",
   "metadata": {},
   "outputs": [],
   "source": [
    "base_model.trainable = False"
   ]
  },
  {
   "cell_type": "markdown",
   "id": "91001359",
   "metadata": {},
   "source": [
    "Adding New Layers:\n",
    "We can now add the new trainable layers to the pre-trained model. They will take the features from the pre-trained layers and turn them into predictions on the new dataset. We will add two layers to the model. First will be a pooling layer like we saw in our earlier CNN\n",
    " We then need to add our final layer, which will classify Bo or not Bo. This will be a densely connected layer with one output."
   ]
  },
  {
   "cell_type": "code",
   "execution_count": null,
   "id": "28ef1604",
   "metadata": {},
   "outputs": [],
   "source": [
    "inputs = keras.Input(shape=(224, 224, 3))\n",
    "# Separately from setting trainable on the model, we set training to False \n",
    "x = base_model(inputs, training=False)\n",
    "x = keras.layers.GlobalAveragePooling2D()(x)\n",
    "# A Dense classifier with a single unit (binary classification)\n",
    "outputs = keras.layers.Dense(1)(x)\n",
    "model = keras.Model(inputs, outputs)"
   ]
  },
  {
   "cell_type": "code",
   "execution_count": null,
   "id": "5a3f3ba0",
   "metadata": {},
   "outputs": [],
   "source": [
    "model.summary()"
   ]
  },
  {
   "cell_type": "markdown",
   "id": "8cbda247",
   "metadata": {},
   "source": [
    "Keras gives us a nice summary here, as it shows the vgg16 pre-trained model as one unit, rather than showing all of the internal layers. It is also worth noting that we have many non-trainable parameters as we have frozen the pre-trained model."
   ]
  },
  {
   "cell_type": "markdown",
   "id": "27637e16",
   "metadata": {},
   "source": [
    "Compiling the Model:\n",
    "As with our previous exercises, we need to compile the model with loss and metrics options. We have to make some different choices here. In previous cases we had many categories in our classification problem. As a result, we picked categorical crossentropy for the calculation of our loss. In this case we only have a binary classification problem (Bo or not Bo), and so we will use binary crossentropy. Further detail about the differences between the two can found here(https://gombru.github.io/2018/05/23/cross_entropy_loss/). We will also use binary accuracy instead of traditional accuracy."
   ]
  },
  {
   "cell_type": "code",
   "execution_count": null,
   "id": "819a2169",
   "metadata": {},
   "outputs": [],
   "source": [
    "# Important to use binary crossentropy and binary accuracy as we now have a binary classification problem\n",
    "model.compile(loss=keras.losses.BinaryCrossentropy(from_logits=True), metrics=[keras.metrics.BinaryAccuracy()])"
   ]
  },
  {
   "cell_type": "markdown",
   "id": "7fc0dcdf",
   "metadata": {},
   "source": [
    "Augmenting the Data:\n",
    "\n",
    "Now that we are dealing with a very small dataset, it is especially important that we augment our data. As before, we will make small modifications to the existing images, which will allow the model to see a wider variety of images to learn from. This will help it learn to recognize new pictures of Bo instead of just memorizing the pictures it trains on."
   ]
  },
  {
   "cell_type": "code",
   "execution_count": null,
   "id": "8006c823",
   "metadata": {},
   "outputs": [],
   "source": [
    "from tensorflow.keras.preprocessing.image import ImageDataGenerator\n",
    "# create a data generator\n",
    "datagen = ImageDataGenerator(\n",
    "        samplewise_center=True,  # set each sample mean to 0\n",
    "        rotation_range=10,  # randomly rotate images in the range (degrees, 0 to 180)\n",
    "        zoom_range = 0.1, # Randomly zoom image \n",
    "        width_shift_range=0.1,  # randomly shift images horizontally (fraction of total width)\n",
    "        height_shift_range=0.1,  # randomly shift images vertically (fraction of total height)\n",
    "        horizontal_flip=True,  # randomly flip images\n",
    "        vertical_flip=False) # we don't expect Bo to be upside-down so we will not flip vertically"
   ]
  },
  {
   "cell_type": "markdown",
   "id": "f88ca0f8",
   "metadata": {},
   "source": [
    "Loading the Data:\n",
    "We have seen datasets in a couple different formats so far. In the MNIST exercise, we were able to download the dataset directly from within the Keras library. For the sign language dataset, the data was in CSV files. For this exercise, we are going to load images directly from folders using Keras' flow_from_directory function. We have set up our directories to help this process go smoothly as our labels are inferred from the folder names. In the data/presidential_doggy_door directory, we have train and validation directories, which each have folders for images of Bo and not Bo. In the not_bo directories, we have pictures of other dogs and cats, to teach our model to keep out other pets. Feel free to explore the images to get a sense of our dataset.\n",
    "\n",
    "Note that flow_from_directory will also allow us to size our images to match the model: 244x244 pixels with 3 channels."
   ]
  },
  {
   "cell_type": "code",
   "execution_count": null,
   "id": "1d53b3c5",
   "metadata": {},
   "outputs": [],
   "source": [
    "# load and iterate training dataset\n",
    "train_it = datagen.flow_from_directory('data/presidential_doggy_door/train/', \n",
    "                                       target_size=(224, 224), \n",
    "                                       color_mode='rgb', \n",
    "                                       class_mode='binary', \n",
    "                                       batch_size=8)\n",
    "# load and iterate validation dataset\n",
    "valid_it = datagen.flow_from_directory('data/presidential_doggy_door/valid/', \n",
    "                                      target_size=(224, 224), \n",
    "                                      color_mode='rgb', \n",
    "                                      class_mode='binary', \n",
    "                                      batch_size=8)"
   ]
  },
  {
   "cell_type": "code",
   "execution_count": null,
   "id": "c13bd1ce",
   "metadata": {},
   "outputs": [],
   "source": [
    "#Training the Model\n",
    "model.fit(train_it, steps_per_epoch=12, validation_data=valid_it, validation_steps=4, epochs=20)\n",
    "#we have to explicitly set the number of steps_per_epoch\n"
   ]
  },
  {
   "cell_type": "markdown",
   "id": "54a92e7f",
   "metadata": {},
   "source": [
    "Both the training and validation accuracy should be quite high. This is a pretty awesome result! We were able to train on a small dataset, but because of the knowledge transferred from the ImageNet model, it was able to achieve high accuracy and generalize well. This means it has a very good sense of Bo and pets who are not Bo."
   ]
  },
  {
   "cell_type": "markdown",
   "id": "f0e7d26b",
   "metadata": {},
   "source": [
    "Fine-Tuning the Model:\n",
    "-It's a trick to improve the model\n",
    "\n",
    "To do this we unfreeze the entire model, and train it again with a very small learning rate. This will cause the base pre-trained layers to take very small steps and adjust slightly, improving the model by a small amount.\n",
    "\n",
    "Note that it is important to only do this step after the model with frozen layers has been fully trained. The untrained pooling and classification layers that we added to the model earlier were randomly initialized. This means they needed to be updated quite a lot to correctly classify the images. Through the process of backpropagation, large initial updates in the last layers would have caused potentially large updates in the pre-trained layers as well. These updates would have destroyed those important pre-trained features. However, now that those final layers are trained and have converged, any updates to the model as a whole will be much smaller (especially with a very small learning rate) and will not destroy the features of the earlier layers.\n",
    "\n",
    "Let's try unfreezing the pre-trained layers, and then fine tuning the model:"
   ]
  },
  {
   "cell_type": "code",
   "execution_count": null,
   "id": "c0ab450a",
   "metadata": {},
   "outputs": [],
   "source": [
    "# Unfreeze the base model\n",
    "base_model.trainable = True\n",
    "\n",
    "# It's important to recompile your model after you make any changes\n",
    "# to the `trainable` attribute of any inner layer, so that your changes\n",
    "# are taken into account\n",
    "model.compile(optimizer=keras.optimizers.RMSprop(learning_rate = .00001),  # Very low learning rate\n",
    "              loss=keras.losses.BinaryCrossentropy(from_logits=True),\n",
    "              metrics=[keras.metrics.BinaryAccuracy()])"
   ]
  },
  {
   "cell_type": "code",
   "execution_count": null,
   "id": "5212bfe8",
   "metadata": {},
   "outputs": [],
   "source": [
    "model.fit(train_it, steps_per_epoch=12, validation_data=valid_it, validation_steps=4, epochs=10)"
   ]
  },
  {
   "cell_type": "markdown",
   "id": "d9a8f950",
   "metadata": {},
   "source": [
    "Examining the Predictions:\n",
    "Now that we have a well-trained model, it is time to create our doggy door for Bo! We can start by looking at the predictions that come from the model. We will preprocess the image in the same way we did for our last doggy door."
   ]
  },
  {
   "cell_type": "code",
   "execution_count": null,
   "id": "69668b52",
   "metadata": {},
   "outputs": [],
   "source": [
    "import matplotlib.pyplot as plt\n",
    "import matplotlib.image as mpimg\n",
    "from tensorflow.keras.preprocessing import image as image_utils\n",
    "from tensorflow.keras.applications.imagenet_utils import preprocess_input\n",
    "\n",
    "def show_image(image_path):\n",
    "    image = mpimg.imread(image_path)\n",
    "    plt.imshow(image)\n",
    "\n",
    "def make_predictions(image_path):\n",
    "    show_image(image_path)\n",
    "    image = image_utils.load_img(image_path, target_size=(224, 224))\n",
    "    image = image_utils.img_to_array(image)\n",
    "    image = image.reshape(1,224,224,3)\n",
    "    image = preprocess_input(image)\n",
    "    preds = model.predict(image)\n",
    "    return preds"
   ]
  },
  {
   "cell_type": "code",
   "execution_count": null,
   "id": "dada258c",
   "metadata": {},
   "outputs": [],
   "source": [
    "make_predictions('data/presidential_doggy_door/valid/bo/bo_20.jpg')"
   ]
  },
  {
   "cell_type": "code",
   "execution_count": null,
   "id": "4574ce85",
   "metadata": {},
   "outputs": [],
   "source": [
    "make_predictions('data/presidential_doggy_door/valid/not_bo/121.jpg')"
   ]
  },
  {
   "cell_type": "markdown",
   "id": "9d0384f8",
   "metadata": {},
   "source": [
    "It looks like a negative number prediction means that it is Bo and a positive number prediction means it is something else. We can use this information to have our doggy door only let Bo in!"
   ]
  },
  {
   "cell_type": "code",
   "execution_count": null,
   "id": "1b5e1719",
   "metadata": {},
   "outputs": [],
   "source": [
    "def presidential_doggy_door(image_path):\n",
    "    preds = make_predictions(image_path)\n",
    "    if preds[0] < 0:\n",
    "        print(\"It's Bo! Let him in!\")\n",
    "    else:\n",
    "        print(\"That's not Bo! Stay out!\")"
   ]
  },
  {
   "cell_type": "code",
   "execution_count": null,
   "id": "b5cacb23",
   "metadata": {},
   "outputs": [],
   "source": [
    "presidential_doggy_door('data/presidential_doggy_door/valid/not_bo/131.jpg')"
   ]
  }
 ],
 "metadata": {
  "kernelspec": {
   "display_name": "Python 3 (ipykernel)",
   "language": "python",
   "name": "python3"
  },
  "language_info": {
   "codemirror_mode": {
    "name": "ipython",
    "version": 3
   },
   "file_extension": ".py",
   "mimetype": "text/x-python",
   "name": "python",
   "nbconvert_exporter": "python",
   "pygments_lexer": "ipython3",
   "version": "3.9.7"
  }
 },
 "nbformat": 4,
 "nbformat_minor": 5
}

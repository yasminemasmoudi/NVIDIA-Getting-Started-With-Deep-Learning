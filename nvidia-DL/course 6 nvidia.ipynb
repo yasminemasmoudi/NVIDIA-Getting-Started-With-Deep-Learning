{
 "cells": [
  {
   "cell_type": "markdown",
   "id": "1d96e389",
   "metadata": {},
   "source": [
    "Sequence Data:\n",
    "Language is naturally composed of sequence data, in the form of characters in words, and words in sentences.\n",
    "Other examples of sequence data include stock prices and weather data over time. Videos, while containing still images, are also sequences. Elements in the data have a relationship with what comes before and what comes after, and this fact requires a different approach.\n",
    "\n",
    "\n",
    "Objectives:\n",
    "Prepare sequence data to use in a recurrent neural network (RNN)\n",
    "Build and train a model to perform word prediction"
   ]
  },
  {
   "cell_type": "markdown",
   "id": "c94068ff",
   "metadata": {},
   "source": [
    "Headline Generator:\n",
    "We've all seen text predictors in applications like the search bars, on cell phones, or in text editors that provide autocompletion of sentences. Many of the good text predictor models are trained on very large datasets, and take a lot of time and/or processing power to train. For this exercise, our predictor will be quite simple, but it will provide some simple exposure to language processing, sequence data, and one of the classic architecture elements used to train sequences, recurrent neural networks or RNNs."
   ]
  },
  {
   "cell_type": "markdown",
   "id": "6fe6dfd7",
   "metadata": {},
   "source": [
    "Reading in the Data:\n",
    "Our dataset consists of headlines from the New York Times newspaper over the course of several months. We'll start by reading in all the headlines from the articles. The articles are in CSV files, so we can use pandas to read them in."
   ]
  },
  {
   "cell_type": "code",
   "execution_count": null,
   "id": "7de6659a",
   "metadata": {},
   "outputs": [],
   "source": [
    "import os \n",
    "import pandas as pd\n",
    "\n",
    "nyt_dir = 'data/nyt_dataset/articles/'\n",
    "\n",
    "all_headlines = []\n",
    "for filename in os.listdir(nyt_dir):\n",
    "    if 'Articles' in filename:\n",
    "        # Read in all the data from the CSV file\n",
    "        headlines_df = pd.read_csv(nyt_dir + filename)\n",
    "        # Add all of the headlines to our list\n",
    "        all_headlines.extend(list(headlines_df.headline.values))\n",
    "len(all_headlines)\n",
    "#output 9335"
   ]
  },
  {
   "cell_type": "code",
   "execution_count": null,
   "id": "4900090f",
   "metadata": {},
   "outputs": [],
   "source": [
    "all_headlines[:20] #first few headlines"
   ]
  },
  {
   "cell_type": "markdown",
   "id": "45579a45",
   "metadata": {},
   "source": [
    "output:\n",
    "['My Beijing: The Sacred City',\n",
    " '6 Million Riders a Day, 1930s Technology',\n",
    " 'Seeking a Cross-Border Conference',\n",
    " 'Questions for: ‘Despite the “Yuck Factor,” Leeches Are Big in Russian Medicine’',\n",
    " 'Who Is a ‘Criminal’?',\n",
    " 'An Antidote to Europe’s Populism',\n",
    " 'The Cost of a Speech',\n",
    " 'Degradation of the Language',\n",
    " 'On the Power of Being Awful',\n",
    " 'Trump Garbles Pitch on a Revised Health Bill',\n",
    " 'What’s Going On in This Picture? | May 1, 2017',\n",
    " 'Unknown',\n",
    " 'When Patients Hit a Medical Wall',\n",
    " 'Unknown',\n",
    " 'For Pregnant Women, Getting Serious About Whooping Cough',\n",
    " 'Unknown',\n",
    " 'New York City Transit Reporter in Wonderland: Riding the London Tube',\n",
    " 'How to Cut an Avocado Without Cutting Yourself',\n",
    " 'In Fictional Suicide, Health Experts Say They See a Real Cause for Alarm',\n",
    " 'Claims of Liberal Media Bias Hit ESPN, Too']"
   ]
  },
  {
   "cell_type": "markdown",
   "id": "3f274bfe",
   "metadata": {},
   "source": [
    "Cleaning the Data:\n",
    "An important part of natural language processing (NLP) tasks (where computers deal with language), is processing text in a way that computers can understand it. We're going to take each of the words that appears in our dataset and represent it with a number. This will be part of a process called tokenization.\n",
    "\n",
    "Before we do that, we need to make sure we have good data. There are some headlines that are listed as \"Unknown\". We don't want these items in our training set, so we'll filter them out:"
   ]
  },
  {
   "cell_type": "code",
   "execution_count": null,
   "id": "7d08f6c4",
   "metadata": {},
   "outputs": [],
   "source": [
    "# Remove all headlines with the value of \"Unknown\"\n",
    "all_headlines = [h for h in all_headlines if h != \"Unknown\"]\n",
    "len(all_headlines)\n",
    "#output 8603"
   ]
  },
  {
   "cell_type": "code",
   "execution_count": null,
   "id": "94aba7ca",
   "metadata": {},
   "outputs": [],
   "source": [
    "all_headlines[:20]"
   ]
  },
  {
   "cell_type": "markdown",
   "id": "5fe6e296",
   "metadata": {},
   "source": [
    "['My Beijing: The Sacred City',\n",
    " '6 Million Riders a Day, 1930s Technology',\n",
    " 'Seeking a Cross-Border Conference',\n",
    " 'Questions for: ‘Despite the “Yuck Factor,” Leeches Are Big in Russian Medicine’',\n",
    " 'Who Is a ‘Criminal’?',\n",
    " 'An Antidote to Europe’s Populism',\n",
    " 'The Cost of a Speech',\n",
    " 'Degradation of the Language',\n",
    " 'On the Power of Being Awful',\n",
    " 'Trump Garbles Pitch on a Revised Health Bill',\n",
    " 'What’s Going On in This Picture? | May 1, 2017',\n",
    " 'When Patients Hit a Medical Wall',\n",
    " 'For Pregnant Women, Getting Serious About Whooping Cough',\n",
    " 'New York City Transit Reporter in Wonderland: Riding the London Tube',\n",
    " 'How to Cut an Avocado Without Cutting Yourself',\n",
    " 'In Fictional Suicide, Health Experts Say They See a Real Cause for Alarm',\n",
    " 'Claims of Liberal Media Bias Hit ESPN, Too',\n",
    " 'Is the dream in Australia crumbling?',\n",
    " 'Police in Texas Change Account in Officer’s Fatal Shooting of 15-Year-Old',\n",
    " 'Most Adults Favor Sex Ed. Most Students Don’t Get It.']"
   ]
  },
  {
   "cell_type": "markdown",
   "id": "16167d7e",
   "metadata": {},
   "source": [
    "We also want to remove punctuation and make our sentences all lower case, because this will make our model easier to train. For our purposes, there is little or no difference between a line ending with \"!\" or \"?\" or whether words are capitalized, as in \"The\" or lower-case, as in \"the\". With fewer unique tokens, our model will be easier to train.\n",
    "\n",
    "We could filter our sentences prior to tokenization, but we don't need to because this can all be done using the Keras Tokenizer(https://www.tensorflow.org/api_docs/python/tf/keras/preprocessing/text/Tokenizer)\n",
    "\n",
    "tf.keras.preprocessing.text.Tokenizer(\n",
    "    num_words=None, filters='!\"#$%&()*+,-./:;<=>?@[\\\\]^_`{|}~\\t\\n', lower=True,\n",
    "    split=' ', char_level=False, oov_token=None, document_count=0, **kwargs\n",
    ")\n",
    "we see the default values are already set up for our use case\n",
    "\n",
    "The filters string already removes punctuation and the lower flag sets words to lower case."
   ]
  },
  {
   "cell_type": "code",
   "execution_count": null,
   "id": "b200dc32",
   "metadata": {},
   "outputs": [],
   "source": [
    "#Tokenization:\n",
    "from tensorflow.keras.preprocessing.text import Tokenizer\n",
    "\n",
    "# Tokenize the words in our headlines\n",
    "tokenizer = Tokenizer()\n",
    "tokenizer.fit_on_texts(all_headlines)\n",
    "total_words = len(tokenizer.word_index) + 1\n",
    "print('Total words: ', total_words)\n",
    "#output 11753"
   ]
  },
  {
   "cell_type": "code",
   "execution_count": null,
   "id": "5adcf0a8",
   "metadata": {},
   "outputs": [],
   "source": [
    "# Print a subset of the word_index dictionary created by Tokenizer\n",
    "subset_dict = {key: value for key, value in tokenizer.word_index.items() \\\n",
    "               if key in ['a','man','a','plan','a','canal','panama']}\n",
    "print(subset_dict)\n",
    "#output {'a': 2, 'plan': 82, 'man': 139, 'panama': 2732, 'canal': 7047}"
   ]
  },
  {
   "cell_type": "code",
   "execution_count": null,
   "id": "6bbc37ed",
   "metadata": {},
   "outputs": [],
   "source": [
    "#texts_to_sequences method to see how the tokenizer saves the words\n",
    "tokenizer.texts_to_sequences(['a','man','a','plan','a','canal','panama'])\n",
    "#output [[2], [139], [2], [82], [2], [7047], [2732]]"
   ]
  },
  {
   "cell_type": "markdown",
   "id": "b38fbea1",
   "metadata": {},
   "source": [
    "Creating Sequences:\n",
    "Now that we've tokenized the data, turning each word into a representative number, we will create sequences of tokens from the headlines. These sequences are what we will train our deep learning model on.\n",
    "\n",
    "For example, let's take the headline, \"nvidia launches ray tracing gpus\". Each word is going to be replaced by a corresponding number, for instance: nvidia - 5, launches - 22, ray - 94, tracing - 16, gpus - 102. The full sequence would be: [5, 22, 94, 16, 102]. However, it is also valuable to train on the smaller sequences within the headline, such as \"nvidia launches\". We'll take each headline and create a set of sequences to fill our dataset. Next, let's use our tokenizer to convert our headlines to a set of sequences."
   ]
  },
  {
   "cell_type": "code",
   "execution_count": null,
   "id": "f0320895",
   "metadata": {},
   "outputs": [],
   "source": [
    "# Convert data to sequence of tokens \n",
    "input_sequences = []\n",
    "for line in all_headlines:\n",
    "    # Convert our headline into a sequence of tokens\n",
    "    token_list = tokenizer.texts_to_sequences([line])[0]\n",
    "    \n",
    "    # Create a series of sequences for each headline\n",
    "    for i in range(1, len(token_list)):\n",
    "        partial_sequence = token_list[:i+1]\n",
    "        input_sequences.append(partial_sequence)\n",
    "\n",
    "print(tokenizer.sequences_to_texts(input_sequences[:5]))\n",
    "input_sequences[:5]"
   ]
  },
  {
   "cell_type": "markdown",
   "id": "bcc49e44",
   "metadata": {},
   "source": [
    "output:\n",
    "['my beijing', 'my beijing the', 'my beijing the sacred', 'my beijing the sacred city', '6 million']\n",
    "[[52, 1616],\n",
    " [52, 1616, 1],\n",
    " [52, 1616, 1, 1992],\n",
    " [52, 1616, 1, 1992, 125],\n",
    " [126, 346]]"
   ]
  },
  {
   "cell_type": "markdown",
   "id": "0d858c6a",
   "metadata": {},
   "source": [
    "Padding Sequences:\n",
    "Right now our sequences are of various lengths. For our model to be able to train on the data, we need to make all the sequences the same length. To do this we'll add padding to the sequences. Keras has a built-in pad_sequences method that we can use."
   ]
  },
  {
   "cell_type": "code",
   "execution_count": null,
   "id": "48f606d1",
   "metadata": {},
   "outputs": [],
   "source": [
    "from tensorflow.keras.preprocessing.sequence import pad_sequences\n",
    "import numpy as np\n",
    "\n",
    "# Determine max sequence length\n",
    "max_sequence_len = max([len(x) for x in input_sequences])\n",
    "\n",
    "# Pad all sequences with zeros at the beginning to make them all max length\n",
    "input_sequences = np.array(pad_sequences(input_sequences, maxlen=max_sequence_len, padding='pre'))\n",
    "input_sequences[0]"
   ]
  },
  {
   "cell_type": "markdown",
   "id": "07476705",
   "metadata": {},
   "source": [
    "output:\n",
    "array([   0,    0,    0,    0,    0,    0,    0,    0,    0,    0,    0,\n",
    "          0,    0,    0,    0,    0,    0,    0,    0,    0,    0,    0,\n",
    "          0,    0,    0,    0,   52, 1616], dtype=int32)"
   ]
  },
  {
   "cell_type": "markdown",
   "id": "8757b895",
   "metadata": {},
   "source": [
    "Creating Predictors and Target:\n",
    "We also want to split up our sequences into predictors and a target. The last word of the sequence will be our target, and the first words of the sequence will be our predictors. As an example, take a look at the full headline: \"nvidia releases ampere graphics cards\"\n",
    "\n",
    "PREDICTORS\t                              TARGET\n",
    "nvidia\t                                 releases\n",
    "nvidia releases\t                          ampere\n",
    "nvidia releases ampere\t                 graphics\n",
    "nvidia releases ampere graphics\t           cards\n"
   ]
  },
  {
   "cell_type": "code",
   "execution_count": null,
   "id": "0fc67ca5",
   "metadata": {},
   "outputs": [],
   "source": [
    "# Predictors are every word except the last\n",
    "predictors = input_sequences[:,:-1]\n",
    "# Labels are the last word\n",
    "labels = input_sequences[:,-1]\n",
    "labels[:5]\n",
    "#output  array([1616,    1, 1992,  125,  346], dtype=int32)"
   ]
  },
  {
   "cell_type": "markdown",
   "id": "47dfd97b",
   "metadata": {},
   "source": [
    "Like our earlier sections, these targets are categorical. We are predicting one word out of our possible total vocabulary. Instead of the network predicting scalar numbers, we will have it predict binary categories."
   ]
  },
  {
   "cell_type": "code",
   "execution_count": null,
   "id": "ed077b8c",
   "metadata": {},
   "outputs": [],
   "source": [
    "from tensorflow.keras import utils\n",
    "\n",
    "labels = utils.to_categorical(labels, num_classes=total_words)"
   ]
  },
  {
   "cell_type": "markdown",
   "id": "da2ed7b4",
   "metadata": {},
   "source": [
    "Creating the Model:\n",
    "For our model, we're going to use a couple of new layers to deal with our sequential data.\n",
    "\n",
    "\n",
    "1-Embedding Layer:\n",
    "Our first layer is an Embedding Layer:\n",
    "model.add(Embedding(input_dimension, output_dimension, input_length=input_len))\n",
    "\n",
    "This layer will take the tokenized sequences and will learn an embedding for all of the words in the training dataset. Mathematically, embeddings work the same way as a neuron in a neural network, but conceptually, their goal is to reduce the number of dimensions for some or all of the features. In this case, it will represent each word as a vector, and the information within that vector will contain the relationships between each word.\n",
    "\n",
    "\n",
    "2-Long Short Term Memory Layer:\n",
    "Our next, and very important layer, is a long short term memory layer (LSTM)(https://colah.github.io/posts/2015-08-Understanding-LSTMs/). \n",
    "An LSTM is a type of recurrent neural network or RNN. Unlike traditional feed-forward networks that we've seen so far, recurrent networks have loops in them, allowing information to persist\n"
   ]
  },
  {
   "cell_type": "code",
   "execution_count": null,
   "id": "0f162710",
   "metadata": {
    "slideshow": {
     "slide_type": "-"
    }
   },
   "outputs": [],
   "source": [
    "from tensorflow.keras.layers import Embedding, LSTM, Dense, Dropout\n",
    "from tensorflow.keras.models import Sequential\n",
    "\n",
    "# Input is max sequence length - 1, as we've removed the last word for the label\n",
    "input_len = max_sequence_len - 1 \n",
    "\n",
    "model = Sequential()\n",
    "\n",
    "# Add input embedding layer\n",
    "model.add(Embedding(total_words, 10, input_length=input_len))\n",
    "\n",
    "# Add LSTM layer with 100 units\n",
    "model.add(LSTM(100))\n",
    "model.add(Dropout(0.1))\n",
    "\n",
    "# Add output layer\n",
    "model.add(Dense(total_words, activation='softmax'))"
   ]
  },
  {
   "cell_type": "code",
   "execution_count": null,
   "id": "1b733378",
   "metadata": {},
   "outputs": [],
   "source": [
    "model.summary()"
   ]
  },
  {
   "cell_type": "markdown",
   "id": "cb969bf9",
   "metadata": {},
   "source": [
    "Model: \"sequential\"\n",
    "_________________________________________________________________\n",
    "Layer (type)                 Output Shape              Param \n",
    "\n",
    "embedding (Embedding)        (None, 27, 10)            117530    \n",
    "_________________________________________________________________\n",
    "lstm (LSTM)                  (None, 100)               44400     \n",
    "_________________________________________________________________\n",
    "dropout (Dropout)            (None, 100)               0         \n",
    "_________________________________________________________________\n",
    "dense (Dense)                (None, 11753)             1187053   \n",
    "\n",
    "Total params: 1,348,983\n",
    "Trainable params: 1,348,983\n",
    "Non-trainable params: 0\n",
    "_________________________________________________________________"
   ]
  },
  {
   "cell_type": "markdown",
   "id": "8e34893e",
   "metadata": {},
   "source": [
    "As before, we compile our model with categorical crossentropy, as we're categorically predicting one word from our total vocabulary. In this case, we are not going to use accuracy as a metric, because text prediction is not measured as being more or less accurate in the same way as image classification.\n",
    "\n",
    "We are also going to select a particular optimizer that is well suited for LSTM tasks, called the Adam optimizer(https://medium.datadriveninvestor.com/overview-of-different-optimizers-for-neural-networks-e0ed119440c3). Details of optimizers are a bit out of scope for this course, but what's important to know is that different optimizers can be better for different deep learning tasks"
   ]
  },
  {
   "cell_type": "code",
   "execution_count": null,
   "id": "c575de07",
   "metadata": {},
   "outputs": [],
   "source": [
    "model.compile(loss='categorical_crossentropy', optimizer='adam')"
   ]
  },
  {
   "cell_type": "markdown",
   "id": "76286ae8",
   "metadata": {},
   "source": [
    "Similar to earlier sections, we fit our model in the same way. This time we'll train for 30 epochs, which will take a few minutes. You'll notice that we don't have a training or validation accuracy score in this case. This reflects our different problem of text prediction."
   ]
  },
  {
   "cell_type": "code",
   "execution_count": null,
   "id": "a9fd2c3c",
   "metadata": {},
   "outputs": [],
   "source": [
    "model.fit(predictors, labels, epochs=30, verbose=1)"
   ]
  },
  {
   "cell_type": "markdown",
   "id": "cfebd931",
   "metadata": {},
   "source": [
    "Making Predictions:\n",
    "In order to make predictions, we'll need to start with a seed text, and prepare it in the same way we prepared our dataset. This will mean tokenizing and padding. Once we do this, we can pass it into our model to make a prediction. We'll create a function to do this called predict_next_token:"
   ]
  },
  {
   "cell_type": "code",
   "execution_count": null,
   "id": "04b2f985",
   "metadata": {},
   "outputs": [],
   "source": [
    "def predict_next_token(seed_text):\n",
    "    token_list = tokenizer.texts_to_sequences([seed_text])[0]\n",
    "    token_list = pad_sequences([token_list], maxlen=max_sequence_len-1, padding='pre')\n",
    "    prediction = model.predict_classes(token_list, verbose=0)\n",
    "    return prediction"
   ]
  },
  {
   "cell_type": "code",
   "execution_count": null,
   "id": "8830f266",
   "metadata": {},
   "outputs": [],
   "source": [
    "prediction = predict_next_token(\"today in new york\")\n",
    "prediction\n",
    "#output array([7010])"
   ]
  },
  {
   "cell_type": "code",
   "execution_count": null,
   "id": "cbfeb25a",
   "metadata": {},
   "outputs": [],
   "source": [
    "tokenizer.sequences_to_texts([prediction])\n",
    "#output ['subway’s']"
   ]
  },
  {
   "cell_type": "markdown",
   "id": "606937d1",
   "metadata": {},
   "source": [
    "Generate New Headlines:\n",
    "Now that we're able to predict new words, let's create a function that can predict headlines of more than just one word. The function below creates a new headline of arbitrary length."
   ]
  },
  {
   "cell_type": "code",
   "execution_count": null,
   "id": "d88e6fc8",
   "metadata": {},
   "outputs": [],
   "source": [
    "def generate_headline(seed_text, next_words=1):\n",
    "    for _ in range(next_words):\n",
    "        # Predict next token\n",
    "        prediction = predict_next_token(seed_text)\n",
    "        # Convert token to word\n",
    "        next_word = tokenizer.sequences_to_texts([prediction])[0]\n",
    "        # Add next word to the headline. This headline will be used in the next pass of the loop.\n",
    "        seed_text += \" \" + next_word\n",
    "    # Return headline as title-case\n",
    "    return seed_text.title()"
   ]
  },
  {
   "cell_type": "code",
   "execution_count": null,
   "id": "42b23071",
   "metadata": {},
   "outputs": [],
   "source": [
    "seed_texts = [\n",
    "    'washington dc is',\n",
    "    'today in new york',\n",
    "    'the school district has',\n",
    "    'crime has become']\n",
    "for seed in seed_texts:\n",
    "    print(generate_headline(seed, next_words=5))"
   ]
  },
  {
   "cell_type": "markdown",
   "id": "926af74e",
   "metadata": {},
   "source": [
    "output:\n",
    "Washington Dc Is Hamas For A Lift Shooting\n",
    "Today In New York Subway’S Service Leaves Straphangers Fuming\n",
    "The School District Has The Podiums To Be Than\n",
    "Crime Has Become Good To Lead It Of"
   ]
  },
  {
   "cell_type": "markdown",
   "id": "f49d907b",
   "metadata": {},
   "source": [
    "The results may be a bit underwhelming after 30 epochs of training. We can notice that most of the headlines make some kind of grammatical sense, but don't necessarily indicate a good contextual understanding. The results might improve somewhat by running more epochs. You can do this by runnning the training fit cell again (and again!) to train another 30 epochs each time. You should see the loss value go down. Then try the tests again. Results can vary quite a bit!\n",
    "\n",
    "Other improvements would be to try using pretrained embeddings with Word2Vec or GloVe, rather than learning them during training as we did with the Keras Embedding layer. Some information on how to do that can be found here https://blog.keras.io/using-pre-trained-word-embeddings-in-a-keras-model.html"
   ]
  }
 ],
 "metadata": {
  "celltoolbar": "Aucun(e)",
  "kernelspec": {
   "display_name": "Python 3 (ipykernel)",
   "language": "python",
   "name": "python3"
  },
  "language_info": {
   "codemirror_mode": {
    "name": "ipython",
    "version": 3
   },
   "file_extension": ".py",
   "mimetype": "text/x-python",
   "name": "python",
   "nbconvert_exporter": "python",
   "pygments_lexer": "ipython3",
   "version": "3.9.7"
  }
 },
 "nbformat": 4,
 "nbformat_minor": 5
}

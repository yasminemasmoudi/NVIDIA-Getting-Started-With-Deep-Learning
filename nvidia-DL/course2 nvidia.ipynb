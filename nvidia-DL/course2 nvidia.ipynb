{
 "cells": [
  {
   "cell_type": "markdown",
   "id": "fbb90f2f",
   "metadata": {},
   "source": [
    "Image Classification of an American Sign Language Dataset \n",
    "contains 26 letters\n",
    "Two of those letters (j and z) require movement, so they are not included in the training dataset.  "
   ]
  },
  {
   "cell_type": "code",
   "execution_count": null,
   "id": "c3fd8799",
   "metadata": {},
   "outputs": [],
   "source": [
    "#Loading the Data\n",
    "import pandas as pd\n",
    "train_df = pd.read_csv(\"data/asl_data/sign_mnist_train.csv\")\n",
    "valid_df = pd.read_csv(\"data/asl_data/sign_mnist_valid.csv\")\n",
    "train_df.head()\n",
    "#Extracting the Labels 'where they are no longer needed'\n",
    "y_train = train_df['label']\n",
    "y_valid = valid_df['label']\n",
    "del train_df['label']\n",
    "del valid_df['label']\n",
    "#Extracting the Images\n",
    "x_train = train_df.values\n",
    "x_valid = valid_df.values\n",
    "#Summarizing the Training and Validation Data\n",
    "x_train.shape\n",
    "#(27455, 784)\n",
    "y_train.shape\n",
    "#(27455,)\n",
    "x_valid.shape\n",
    "#(7172, 784)\n",
    "y_valid.shape\n",
    "#(7172,)"
   ]
  },
  {
   "cell_type": "code",
   "execution_count": null,
   "id": "0e372b29",
   "metadata": {},
   "outputs": [],
   "source": [
    "#Visualizing the Data\n",
    "import matplotlib.pyplot as plt\n",
    "plt.figure(figsize=(40,40))\n",
    "\n",
    "num_images = 20\n",
    "for i in range(num_images):\n",
    "    row = x_train[i]\n",
    "    label = y_train[i]\n",
    "    \n",
    "    image = row.reshape(28,28)\n",
    "    plt.subplot(1, num_images, i+1)\n",
    "    plt.title(label, fontdict={'fontsize': 30})\n",
    "    plt.axis('off')\n",
    "    plt.imshow(image, cmap='gray')\n",
    "    "
   ]
  },
  {
   "cell_type": "code",
   "execution_count": null,
   "id": "a4af6428",
   "metadata": {},
   "outputs": [],
   "source": [
    "x_train = x_train / 255 \n",
    "x_valid = x_valid / 255"
   ]
  },
  {
   "cell_type": "code",
   "execution_count": null,
   "id": "930d582b",
   "metadata": {},
   "outputs": [],
   "source": [
    "#Categorize the Labels\n",
    "import tensorflow.keras as keras\n",
    "num_classes = 24\n",
    "y_train = keras.utils.to_categorical(y_train, num_classes)\n",
    "y_valid = keras.utils.to_categorical(y_valid, num_classes)"
   ]
  },
  {
   "cell_type": "code",
   "execution_count": null,
   "id": "a5133730",
   "metadata": {},
   "outputs": [],
   "source": [
    "# Build the Model\n",
    "from tensorflow.keras.models import Sequential\n",
    "from tensorflow.keras.layers import Dense\n",
    "model = Sequential()\n",
    "model.add(Dense(units = 512, activation='relu', input_shape=(784,)))\n",
    "model.add(Dense(units = 512, activation='relu'))\n",
    "model.add(Dense(units = num_classes, activation='softmax'))\n",
    "\n",
    "#Summarizing the Model\n",
    "model.summary()\n",
    "\n",
    "\n",
    "#Compiling the Model\n",
    "model.compile(loss='categorical_crossentropy', metrics=['accuracy'])\n",
    "\n",
    "\n",
    "#Train the Model\n",
    "model.fit(x_train, y_train, epochs=20, verbose=1, validation_data=(x_valid, y_valid))"
   ]
  }
 ],
 "metadata": {
  "kernelspec": {
   "display_name": "Python 3 (ipykernel)",
   "language": "python",
   "name": "python3"
  },
  "language_info": {
   "codemirror_mode": {
    "name": "ipython",
    "version": 3
   },
   "file_extension": ".py",
   "mimetype": "text/x-python",
   "name": "python",
   "nbconvert_exporter": "python",
   "pygments_lexer": "ipython3",
   "version": "3.9.7"
  }
 },
 "nbformat": 4,
 "nbformat_minor": 5
}
